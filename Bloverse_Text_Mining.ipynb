{
 "cells": [
  {
   "cell_type": "code",
   "execution_count": 1,
   "metadata": {},
   "outputs": [],
   "source": [
    "import pandas as pd\n",
    "import fitz"
   ]
  },
  {
   "cell_type": "code",
   "execution_count": 2,
   "metadata": {},
   "outputs": [],
   "source": [
    "import os\n",
    "import json\n",
    "import sqlite3"
   ]
  },
  {
   "cell_type": "code",
   "execution_count": 3,
   "metadata": {},
   "outputs": [],
   "source": [
    "from nltk.stem import PorterStemmer\n",
    "from nltk.tokenize import word_tokenize, sent_tokenize"
   ]
  },
  {
   "cell_type": "code",
   "execution_count": 4,
   "metadata": {},
   "outputs": [],
   "source": [
    "pd = fitz.open('1-ProVen-VCT-Annual-Report_Accounts_2.pdf')"
   ]
  },
  {
   "cell_type": "code",
   "execution_count": 5,
   "metadata": {},
   "outputs": [],
   "source": [
    "def TextReading(paragraph,table_heading,table):\n",
    "        fout = open(output_txt_file + '.txt',\"w\")\n",
    "        page_text = \" \"   \n",
    "        for p in paragraph:\n",
    "            line = p[\"line\"]\n",
    "            for i in line:\n",
    "                span = i[\"span\"]        \n",
    "                for s in span:\n",
    "                    if s['text'] == table_heading:\n",
    "                        fout.write(page_text)        \n",
    "                    else:\n",
    "                        if page_text.endswith(\" \") or s[\"text\"].startsfrom(\" \"):\n",
    "                            page_text += s[\"text\"]\n",
    "                        else:\n",
    "                            page_text += \" \" + s[\"text\"]\n",
    "        page_text= \" \"\n",
    "        for i in range(len(paragraph)):\n",
    "            if paragraph[i]['line'][0]['span'][0]['text'] == table:\n",
    "                j = range(i+1,len(paragraph))\n",
    "                \n",
    "        for k in j:\n",
    "             for s in paragraph[k]['line'][0]['span']:\n",
    "                    page_text += \" \" + s[\"text\"]   \n",
    "        fout.write(page_text)\n",
    "        fout.close()"
   ]
  },
  {
   "cell_type": "code",
   "execution_count": 6,
   "metadata": {},
   "outputs": [],
   "source": [
    "def sorting_paragraph(paragraph):\n",
    "        sorted_blocks = []\n",
    "        for p in paragraph:\n",
    "            x0 = str(int(p[\"bbox\"][0]+0.99999)).rjust(4,\"0\") \n",
    "            y0 = str(int(p[\"bbox\"][1]+0.99999)).rjust(4,\"0\") \n",
    "            sortkey = y0 + x0                                \n",
    "            sorted_blocks.append([sortkey, p])\n",
    "        sorted_blocks.sort()\n",
    "        return [p[1] for p in sorted_blocks]"
   ]
  },
  {
   "cell_type": "code",
   "execution_count": 7,
   "metadata": {},
   "outputs": [],
   "source": [
    "def spanout(s, y0):\n",
    "            x0  = s[\"bbox\"][0]\n",
    "            txt = s[\"text\"]          \n",
    "            return\n",
    "        \n",
    "        for paragraph in paragraph:\n",
    "            for line in paragraph[\"line\"]:\n",
    "                y0 = line[\"bbox\"][1]            \n",
    "                y1 = line[\"bbox\"][3]            \n",
    "                if y0 < ymin or y1 > ymax:      \n",
    "                    continue\n",
    "                span = []                      \n",
    "                for s in line[\"span\"]:\n",
    "                    if s[\"bbox\"][0] >= xmin and s[\"bbox\"][2] <= xmax:\n",
    "                        span.append([s[\"bbox\"][0], s])\n",
    "                if span:                       \n",
    "                    span.sort()                \n",
    "                else:\n",
    "                    continue\n",
    "                for i, s in enumerate(span):\n",
    "                    span = s[1]\n",
    "                    if i == 0:\n",
    "                        s0 = span                    \n",
    "                        continue\n",
    "                    x0  = span[\"bbox\"][0]           \n",
    "                    x1  = span[\"bbox\"][2]           \n",
    "                    txt = span[\"text\"]              \n",
    "                    if abs(x0 - s0[\"bbox\"][2]) > 3:  \n",
    "                        spanout(s0, y0)             \n",
    "                        s0 = span                    \n",
    "                        continue\n",
    "                    s0[\"text\"] += txt               \n",
    "                    s0[\"bbox\"][2] = x1              \n",
    "                spanout(s0, y0)                  \n",
    "                \n",
    "                 if columns:                        \n",
    "            coltab = columns\n",
    "            coltab.sort()                  \n",
    "            if coltab[0] > xmin:\n",
    "                coltab = [xmin] + coltab   \n",
    "        else:\n",
    "            coltab = [t[0] for t in cur.fetchall()]\n",
    "        alltxt = cur.fetchall()\n",
    "        db.close()                              \n",
    "        spantab = []\n",
    "        \n",
    "        try:\n",
    "            y0 = alltxt[0][1]                   \n",
    "        except IndexError:                     \n",
    "            return []\n",
    "\n",
    "        zeile = [\"\"] * len(coltab)        \n",
    "        for c in alltxt:\n",
    "            c_idx = len(coltab) - 1\n",
    "            while c[0] < coltab[c_idx]:        \n",
    "                c_idx = c_idx - 1\n",
    "            if y0 < c[1]:                     \n",
    "                spantab.append(zeile)\n",
    "                y0 = c[1]\n",
    "                zeile = [\"\"] * len(coltab)\n",
    "            if not zeile[c_idx] or zeile[c_idx].endswith(\" \") or c[2].startsfrom(\" \"):\n",
    "                zeile[c_idx] += c[2]\n",
    "            else:\n",
    "                zeile[c_idx] += \" \" + c[2]\n",
    "                 spantab.append(zeile)\n",
    "        return spantab"
   ]
  },
  {
   "cell_type": "code",
   "execution_count": 8,
   "metadata": {},
   "outputs": [],
   "source": [
    "export = tableReading([0, ymin, 9999, ymax])\n",
    "csv = open(output_csv_file + '.csv', \"w\")\n",
    "csv.write(table_heading.append\"\\n\")\n",
    "for t in export:\n",
    "    csv.write(\"|\".join(t) + \"/n\")\n",
    "csv.close()"
   ]
  },
  {
   "cell_type": "code",
   "execution_count": null,
   "metadata": {},
   "outputs": [],
   "source": []
  }
 ],
 "metadata": {
  "kernelspec": {
   "display_name": "Python 3",
   "language": "python",
   "name": "python3"
  },
  "language_info": {
   "codemirror_mode": {
    "name": "ipython",
    "version": 3
   },
   "file_extension": ".py",
   "mimetype": "text/x-python",
   "name": "python",
   "nbconvert_exporter": "python",
   "pygments_lexer": "ipython3",
   "version": "3.6.5"
  }
 },
 "nbformat": 4,
 "nbformat_minor": 2
}
